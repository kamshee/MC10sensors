{
 "cells": [
  {
   "cell_type": "markdown",
   "metadata": {},
   "source": [
    "# Create metadata and raw data matrix\n",
    "Summary:\n",
    "- Load pickle files for healthy controls\n",
    "- Unstack nested dictionary form\n",
    "- Save as pickle files in `meta_and_raw_data` folder"
   ]
  },
  {
   "cell_type": "code",
   "execution_count": 1,
   "metadata": {
    "ExecuteTime": {
     "end_time": "2019-01-17T17:41:46.167448Z",
     "start_time": "2019-01-17T17:41:45.125692Z"
    }
   },
   "outputs": [],
   "source": [
    "import os\n",
    "import numpy as np\n",
    "import pandas as pd\n",
    "import pickle\n",
    "import re\n",
    "\n",
    "# load functions\n",
    "from meta_and_raw_data_functions import (unstack_ar_dictionary,\n",
    "extract_date_from_timestamp, process_annotations,\n",
    "onesubject_meta_raw, create_raw_and_meta_df)"
   ]
  },
  {
   "cell_type": "code",
   "execution_count": 2,
   "metadata": {
    "ExecuteTime": {
     "end_time": "2019-01-17T17:41:47.240810Z",
     "start_time": "2019-01-17T17:41:47.237819Z"
    }
   },
   "outputs": [],
   "source": [
    "# set paths for tests\n",
    "dict_path = r'//FS2.smpp.local\\RTO\\Inpatient Sensors -Stroke\\Data\\biostamp_data\\Data_dict'\n",
    "save_path = r'//FS2.smpp.local\\RTO\\Inpatient Sensors -Stroke\\Data\\biostamp_data\\meta_and_raw_data'\n",
    "annotation_path = r'//FS2.smpp.local\\RTO\\Inpatient Sensors -Stroke\\Data\\biostamp_data\\controls'"
   ]
  },
  {
   "cell_type": "markdown",
   "metadata": {},
   "source": [
    "# Test opening 1 healthy control subject pickle file\n",
    "- nested dictionary format"
   ]
  },
  {
   "cell_type": "code",
   "execution_count": 12,
   "metadata": {
    "ExecuteTime": {
     "end_time": "2019-01-15T16:35:38.713763Z",
     "start_time": "2019-01-15T16:35:21.528880Z"
    }
   },
   "outputs": [],
   "source": [
    "# open a file \n",
    "subj = 'HC03'\n",
    "filename = os.path.join(dict_path, subj + 'dict.pkl')\n",
    "with open(filename,'rb') as filename:\n",
    "    act_dict = pickle.load(filename)"
   ]
  },
  {
   "cell_type": "code",
   "execution_count": null,
   "metadata": {
    "ExecuteTime": {
     "end_time": "2019-01-17T17:24:34.092891Z",
     "start_time": "2019-01-17T17:24:32.520068Z"
    }
   },
   "outputs": [],
   "source": [
    "act_dict"
   ]
  },
  {
   "cell_type": "markdown",
   "metadata": {},
   "source": [
    "# Test unstacking nested dictionary of raw data and add metadata"
   ]
  },
  {
   "cell_type": "code",
   "execution_count": null,
   "metadata": {
    "ExecuteTime": {
     "end_time": "2019-01-17T17:36:31.741838Z",
     "start_time": "2019-01-17T17:36:31.733859Z"
    }
   },
   "outputs": [],
   "source": [
    "dictionary_path = dict_path\n",
    "annotation_path = r'//FS2.smpp.local\\RTO\\Inpatient Sensors -Stroke\\Data\\biostamp_data\\controls'\n",
    "subj = 'HC02'\n",
    "\n",
    "df = onesubject_meta_raw(dictionary_path, annotation_path, subj)\n",
    "df"
   ]
  },
  {
   "cell_type": "markdown",
   "metadata": {},
   "source": [
    "# Loop over all HC, create raw+meta df and save as pickle in new folder"
   ]
  },
  {
   "cell_type": "code",
   "execution_count": 23,
   "metadata": {
    "ExecuteTime": {
     "end_time": "2019-01-15T18:54:54.728327Z",
     "start_time": "2019-01-15T18:26:14.160699Z"
    },
    "scrolled": true
   },
   "outputs": [
    {
     "name": "stdout",
     "output_type": "stream",
     "text": [
      "HC01_meta_raw.pkl File Saved\n",
      "\n",
      "HC02_meta_raw.pkl File Saved\n",
      "\n",
      "HC03_meta_raw.pkl File Saved\n",
      "\n",
      "HC04_meta_raw.pkl File Saved\n",
      "\n",
      "HC05_meta_raw.pkl File Saved\n",
      "\n",
      "HC06_meta_raw.pkl File Saved\n",
      "\n",
      "HC07_meta_raw.pkl File Saved\n",
      "\n",
      "HC08_meta_raw.pkl File Saved\n",
      "\n",
      "HC09_meta_raw.pkl File Saved\n",
      "\n",
      "HC10_meta_raw.pkl File Saved\n",
      "\n",
      "HC11_meta_raw.pkl File Saved\n",
      "\n",
      "HC12_meta_raw.pkl File Saved\n",
      "\n",
      "HC13_meta_raw.pkl File Saved\n",
      "\n",
      "HC14_meta_raw.pkl File Saved\n",
      "\n",
      "HC15_meta_raw.pkl File Saved\n",
      "\n",
      "HC16_meta_raw.pkl File Saved\n",
      "\n",
      "HC17_meta_raw.pkl File Saved\n",
      "\n",
      "HC18_meta_raw.pkl File Saved\n",
      "\n",
      "HC19_meta_raw.pkl File Saved\n",
      "\n",
      "HC20_meta_raw.pkl File Saved\n",
      "\n",
      "HC21_meta_raw.pkl File Saved\n",
      "\n",
      "HC22_meta_raw.pkl File Saved\n",
      "\n",
      "HC23_meta_raw.pkl File Saved\n",
      "\n",
      "HC24_meta_raw.pkl File Saved\n",
      "\n",
      "HC25_meta_raw.pkl File Saved\n",
      "\n",
      "HC26_meta_raw.pkl File Saved\n",
      "\n",
      "HC27_meta_raw.pkl File Saved\n",
      "\n",
      "HC28_meta_raw.pkl File Saved\n",
      "\n",
      "HC29_meta_raw.pkl File Saved\n",
      "\n",
      "HC30_meta_raw.pkl File Saved\n",
      "\n",
      "HC31_meta_raw.pkl File Saved\n",
      "\n",
      "HC32_meta_raw.pkl File Saved\n",
      "\n",
      "HC33_meta_raw.pkl File Saved\n",
      "\n",
      "HC34_meta_raw.pkl File Saved\n",
      "\n",
      "HC35_meta_raw.pkl File Saved\n",
      "\n",
      "HC36_meta_raw.pkl File Saved\n",
      "\n",
      "HC37_meta_raw.pkl File Saved\n",
      "\n",
      "HC38_meta_raw.pkl File Saved\n",
      "\n",
      "HC39_meta_raw.pkl File Saved\n",
      "\n",
      "HC40_meta_raw.pkl File Saved\n",
      "\n",
      "HC41_meta_raw.pkl File Saved\n",
      "\n",
      "HC42_meta_raw.pkl File Saved\n",
      "\n",
      "HC43_meta_raw.pkl File Saved\n",
      "\n",
      "HC44_meta_raw.pkl File Saved\n",
      "\n",
      "HC45_meta_raw.pkl File Saved\n",
      "\n",
      "HC46_meta_raw.pkl File Saved\n",
      "\n",
      "HC47_meta_raw.pkl File Saved\n",
      "\n",
      "HC48_meta_raw.pkl File Saved\n",
      "\n",
      "HC49_meta_raw.pkl File Saved\n",
      "\n",
      "HC50_meta_raw.pkl File Saved\n",
      "\n",
      "HC51_meta_raw.pkl File Saved\n",
      "\n"
     ]
    }
   ],
   "source": [
    "# run and create meta/rawdata files for all healthy controls\n",
    "create_raw_and_meta_df()"
   ]
  }
 ],
 "metadata": {
  "kernelspec": {
   "display_name": "Python 3",
   "language": "python",
   "name": "python3"
  },
  "language_info": {
   "codemirror_mode": {
    "name": "ipython",
    "version": 3
   },
   "file_extension": ".py",
   "mimetype": "text/x-python",
   "name": "python",
   "nbconvert_exporter": "python",
   "pygments_lexer": "ipython3",
   "version": "3.7.0"
  }
 },
 "nbformat": 4,
 "nbformat_minor": 2
}
