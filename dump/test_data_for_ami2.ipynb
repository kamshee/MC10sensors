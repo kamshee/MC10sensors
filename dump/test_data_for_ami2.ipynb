{
 "cells": [
  {
   "cell_type": "markdown",
   "metadata": {},
   "source": [
    "# How to create files for Ami's pipeline"
   ]
  },
  {
   "cell_type": "code",
   "execution_count": null,
   "metadata": {},
   "outputs": [],
   "source": [
    "# Importing the Libraries\n",
    "import os\n",
    "import platform\n",
    "import numpy as np\n",
    "import pandas as pd\n",
    "import seaborn as sns\n",
    "import matplotlib.pyplot as plt\n",
    "import datetime as dt\n",
    "import pathlib\n",
    "import pickle\n",
    "from itertools import product\n",
    "from scipy.stats import skew, kurtosis, pearsonr, iqr, zscore\n",
    "from scipy.signal import butter, welch, filtfilt, resample\n",
    "import time\n",
    "import re\n",
    "import copy\n",
    "# import nolds\n",
    "from sklearn import preprocessing\n",
    "import scipy.io # test matlab code\n",
    "\n",
    "# from PreprocessFunctions import * # functions for unstacked df with raw data\n",
    "# from PreprocessFcns import *\n",
    "\n",
    "%matplotlib inline"
   ]
  },
  {
   "cell_type": "code",
   "execution_count": null,
   "metadata": {},
   "outputs": [],
   "source": [
    "SubID = 'HC03'\n",
    "testpath31 = r'//FS2.smpp.local\\RTO\\Inpatient Sensors -Stroke\\Data\\biostamp_data\\controls'\n",
    "testpath32 = os.path.join(testpath31, SubID)\n",
    "testactdict, testtimestamp = extract_data(SubID, testpath32)\n",
    "testunstacked3 = unstack_ar_dictionary(testactdict)"
   ]
  },
  {
   "cell_type": "code",
   "execution_count": 242,
   "metadata": {
    "ExecuteTime": {
     "end_time": "2018-11-21T16:49:57.826342Z",
     "start_time": "2018-11-21T16:49:57.721623Z"
    }
   },
   "outputs": [
    {
     "data": {
      "text/html": [
       "<div>\n",
       "<style scoped>\n",
       "    .dataframe tbody tr th:only-of-type {\n",
       "        vertical-align: middle;\n",
       "    }\n",
       "\n",
       "    .dataframe tbody tr th {\n",
       "        vertical-align: top;\n",
       "    }\n",
       "\n",
       "    .dataframe thead th {\n",
       "        text-align: right;\n",
       "    }\n",
       "</style>\n",
       "<table border=\"1\" class=\"dataframe\">\n",
       "  <thead>\n",
       "    <tr style=\"text-align: right;\">\n",
       "      <th></th>\n",
       "      <th>task</th>\n",
       "      <th>trial</th>\n",
       "      <th>location</th>\n",
       "      <th>sensor</th>\n",
       "      <th>rawdata</th>\n",
       "    </tr>\n",
       "  </thead>\n",
       "  <tbody>\n",
       "    <tr>\n",
       "      <th>684</th>\n",
       "      <td>WALKING</td>\n",
       "      <td>0</td>\n",
       "      <td>distal_lateral_shank_left</td>\n",
       "      <td>accel</td>\n",
       "      <td>Accel X (g)  Accel Y (g)  Acce...</td>\n",
       "    </tr>\n",
       "    <tr>\n",
       "      <th>687</th>\n",
       "      <td>WALKING</td>\n",
       "      <td>0</td>\n",
       "      <td>distal_lateral_shank_right</td>\n",
       "      <td>accel</td>\n",
       "      <td>Accel X (g)  Accel Y (g)  Acce...</td>\n",
       "    </tr>\n",
       "    <tr>\n",
       "      <th>711</th>\n",
       "      <td>WALKING</td>\n",
       "      <td>0</td>\n",
       "      <td>sacrum</td>\n",
       "      <td>accel</td>\n",
       "      <td>Accel X (g)  Accel Y (g)  Acce...</td>\n",
       "    </tr>\n",
       "    <tr>\n",
       "      <th>732</th>\n",
       "      <td>WALKING</td>\n",
       "      <td>1</td>\n",
       "      <td>distal_lateral_shank_left</td>\n",
       "      <td>accel</td>\n",
       "      <td>Accel X (g)  Accel Y (g)  Acce...</td>\n",
       "    </tr>\n",
       "    <tr>\n",
       "      <th>735</th>\n",
       "      <td>WALKING</td>\n",
       "      <td>1</td>\n",
       "      <td>distal_lateral_shank_right</td>\n",
       "      <td>accel</td>\n",
       "      <td>Accel X (g)  Accel Y (g)  Acce...</td>\n",
       "    </tr>\n",
       "    <tr>\n",
       "      <th>759</th>\n",
       "      <td>WALKING</td>\n",
       "      <td>1</td>\n",
       "      <td>sacrum</td>\n",
       "      <td>accel</td>\n",
       "      <td>Accel X (g)  Accel Y (g)  Acce...</td>\n",
       "    </tr>\n",
       "    <tr>\n",
       "      <th>876</th>\n",
       "      <td>STAIRS DOWN</td>\n",
       "      <td>0</td>\n",
       "      <td>distal_lateral_shank_left</td>\n",
       "      <td>accel</td>\n",
       "      <td>Accel X (g)  Accel Y (g)  Acce...</td>\n",
       "    </tr>\n",
       "    <tr>\n",
       "      <th>879</th>\n",
       "      <td>STAIRS DOWN</td>\n",
       "      <td>0</td>\n",
       "      <td>distal_lateral_shank_right</td>\n",
       "      <td>accel</td>\n",
       "      <td>Accel X (g)  Accel Y (g)  Acce...</td>\n",
       "    </tr>\n",
       "    <tr>\n",
       "      <th>903</th>\n",
       "      <td>STAIRS DOWN</td>\n",
       "      <td>0</td>\n",
       "      <td>sacrum</td>\n",
       "      <td>accel</td>\n",
       "      <td>Accel X (g)  Accel Y (g)  Acce...</td>\n",
       "    </tr>\n",
       "    <tr>\n",
       "      <th>924</th>\n",
       "      <td>STAIRS DOWN</td>\n",
       "      <td>1</td>\n",
       "      <td>distal_lateral_shank_left</td>\n",
       "      <td>accel</td>\n",
       "      <td>Accel X (g)  Accel Y (g)  Acce...</td>\n",
       "    </tr>\n",
       "    <tr>\n",
       "      <th>927</th>\n",
       "      <td>STAIRS DOWN</td>\n",
       "      <td>1</td>\n",
       "      <td>distal_lateral_shank_right</td>\n",
       "      <td>accel</td>\n",
       "      <td>Accel X (g)  Accel Y (g)  Acce...</td>\n",
       "    </tr>\n",
       "    <tr>\n",
       "      <th>951</th>\n",
       "      <td>STAIRS DOWN</td>\n",
       "      <td>1</td>\n",
       "      <td>sacrum</td>\n",
       "      <td>accel</td>\n",
       "      <td>Accel X (g)  Accel Y (g)  Acce...</td>\n",
       "    </tr>\n",
       "    <tr>\n",
       "      <th>972</th>\n",
       "      <td>STAIRS UP</td>\n",
       "      <td>0</td>\n",
       "      <td>distal_lateral_shank_left</td>\n",
       "      <td>accel</td>\n",
       "      <td>Accel X (g)  Accel Y (g)  Acce...</td>\n",
       "    </tr>\n",
       "    <tr>\n",
       "      <th>975</th>\n",
       "      <td>STAIRS UP</td>\n",
       "      <td>0</td>\n",
       "      <td>distal_lateral_shank_right</td>\n",
       "      <td>accel</td>\n",
       "      <td>Accel X (g)  Accel Y (g)  Acce...</td>\n",
       "    </tr>\n",
       "    <tr>\n",
       "      <th>999</th>\n",
       "      <td>STAIRS UP</td>\n",
       "      <td>0</td>\n",
       "      <td>sacrum</td>\n",
       "      <td>accel</td>\n",
       "      <td>Accel X (g)  Accel Y (g)  Acce...</td>\n",
       "    </tr>\n",
       "    <tr>\n",
       "      <th>1020</th>\n",
       "      <td>STAIRS UP</td>\n",
       "      <td>1</td>\n",
       "      <td>distal_lateral_shank_left</td>\n",
       "      <td>accel</td>\n",
       "      <td>Accel X (g)  Accel Y (g)  Acce...</td>\n",
       "    </tr>\n",
       "    <tr>\n",
       "      <th>1023</th>\n",
       "      <td>STAIRS UP</td>\n",
       "      <td>1</td>\n",
       "      <td>distal_lateral_shank_right</td>\n",
       "      <td>accel</td>\n",
       "      <td>Accel X (g)  Accel Y (g)  Acce...</td>\n",
       "    </tr>\n",
       "    <tr>\n",
       "      <th>1047</th>\n",
       "      <td>STAIRS UP</td>\n",
       "      <td>1</td>\n",
       "      <td>sacrum</td>\n",
       "      <td>accel</td>\n",
       "      <td>Accel X (g)  Accel Y (g)  Acce...</td>\n",
       "    </tr>\n",
       "  </tbody>\n",
       "</table>\n",
       "</div>"
      ],
      "text/plain": [
       "             task  trial                    location sensor  \\\n",
       "684       WALKING      0   distal_lateral_shank_left  accel   \n",
       "687       WALKING      0  distal_lateral_shank_right  accel   \n",
       "711       WALKING      0                      sacrum  accel   \n",
       "732       WALKING      1   distal_lateral_shank_left  accel   \n",
       "735       WALKING      1  distal_lateral_shank_right  accel   \n",
       "759       WALKING      1                      sacrum  accel   \n",
       "876   STAIRS DOWN      0   distal_lateral_shank_left  accel   \n",
       "879   STAIRS DOWN      0  distal_lateral_shank_right  accel   \n",
       "903   STAIRS DOWN      0                      sacrum  accel   \n",
       "924   STAIRS DOWN      1   distal_lateral_shank_left  accel   \n",
       "927   STAIRS DOWN      1  distal_lateral_shank_right  accel   \n",
       "951   STAIRS DOWN      1                      sacrum  accel   \n",
       "972     STAIRS UP      0   distal_lateral_shank_left  accel   \n",
       "975     STAIRS UP      0  distal_lateral_shank_right  accel   \n",
       "999     STAIRS UP      0                      sacrum  accel   \n",
       "1020    STAIRS UP      1   distal_lateral_shank_left  accel   \n",
       "1023    STAIRS UP      1  distal_lateral_shank_right  accel   \n",
       "1047    STAIRS UP      1                      sacrum  accel   \n",
       "\n",
       "                                                rawdata  \n",
       "684                   Accel X (g)  Accel Y (g)  Acce...  \n",
       "687                   Accel X (g)  Accel Y (g)  Acce...  \n",
       "711                   Accel X (g)  Accel Y (g)  Acce...  \n",
       "732                   Accel X (g)  Accel Y (g)  Acce...  \n",
       "735                   Accel X (g)  Accel Y (g)  Acce...  \n",
       "759                   Accel X (g)  Accel Y (g)  Acce...  \n",
       "876                   Accel X (g)  Accel Y (g)  Acce...  \n",
       "879                   Accel X (g)  Accel Y (g)  Acce...  \n",
       "903                   Accel X (g)  Accel Y (g)  Acce...  \n",
       "924                   Accel X (g)  Accel Y (g)  Acce...  \n",
       "927                   Accel X (g)  Accel Y (g)  Acce...  \n",
       "951                   Accel X (g)  Accel Y (g)  Acce...  \n",
       "972                   Accel X (g)  Accel Y (g)  Acce...  \n",
       "975                   Accel X (g)  Accel Y (g)  Acce...  \n",
       "999                   Accel X (g)  Accel Y (g)  Acce...  \n",
       "1020                  Accel X (g)  Accel Y (g)  Acce...  \n",
       "1023                  Accel X (g)  Accel Y (g)  Acce...  \n",
       "1047                  Accel X (g)  Accel Y (g)  Acce...  "
      ]
     },
     "execution_count": 242,
     "metadata": {},
     "output_type": "execute_result"
    }
   ],
   "source": [
    "test = testunstacked3.query('((location==\"sacrum\")or(location==\"distal_lateral_shank_left\")or \\\n",
    "                         (location==\"distal_lateral_shank_right\")) & \\\n",
    "                     sensor==\"accel\" & \\\n",
    "                    ( (task==\"WALKING\") or (task==\"STAIRS DOWN\") or (task==\"STAIRS UP\") )&\\\n",
    "                     ((trial==0) or (trial==1)) ')\n",
    "test"
   ]
  },
  {
   "cell_type": "code",
   "execution_count": 256,
   "metadata": {
    "ExecuteTime": {
     "end_time": "2018-11-21T16:59:10.796453Z",
     "start_time": "2018-11-21T16:59:10.615688Z"
    }
   },
   "outputs": [],
   "source": [
    "# save rawdata as separate files\n",
    "amipath = r'//FS2.smpp.local\\RTO\\Inpatient Sensors -Stroke\\Data analysis\\Analysis_ActivityRecognition'\n",
    "test.rawdata[684].to_csv(os.path.join(amipath, 'walking_leftankle.csv'), index=False)\n",
    "test.rawdata[687].to_csv(os.path.join(amipath, 'walking_rightankle.csv'), index=False)\n",
    "test.rawdata[711].to_csv(os.path.join(amipath, 'walking_sacrum.csv'), index=False)\n",
    "test.rawdata[876].to_csv(os.path.join(amipath, 'stairdn_leftankle.csv'), index=False)\n",
    "test.rawdata[879].to_csv(os.path.join(amipath, 'stairdn_rightankle.csv'), index=False)\n",
    "test.rawdata[903].to_csv(os.path.join(amipath, 'stairdn_sacrum.csv'), index=False)\n",
    "test.rawdata[972].to_csv(os.path.join(amipath, 'stairup_leftankle.csv'), index=False)\n",
    "test.rawdata[975].to_csv(os.path.join(amipath, 'stairup_rightankle.csv'), index=False)\n",
    "test.rawdata[999].to_csv(os.path.join(amipath, 'stairup_sacrum.csv'), index=False)"
   ]
  },
  {
   "cell_type": "code",
   "execution_count": 243,
   "metadata": {
    "ExecuteTime": {
     "end_time": "2018-11-21T16:49:59.794568Z",
     "start_time": "2018-11-21T16:49:59.737720Z"
    },
    "code_folding": [],
    "scrolled": true
   },
   "outputs": [
    {
     "name": "stderr",
     "output_type": "stream",
     "text": [
      "C:\\ProgramData\\Anaconda3\\lib\\site-packages\\pandas\\core\\generic.py:4405: SettingWithCopyWarning: \n",
      "A value is trying to be set on a copy of a slice from a DataFrame.\n",
      "Try using .loc[row_indexer,col_indexer] = value instead\n",
      "\n",
      "See the caveats in the documentation: http://pandas.pydata.org/pandas-docs/stable/indexing.html#indexing-view-versus-copy\n",
      "  self[name] = value\n"
     ]
    }
   ],
   "source": [
    "# matlab doesn't like '_' characters\n",
    "# test.location = test.location.str.replace('_', '')\n",
    "test.location = test.location.str.replace('distal_lateral_shank_left', 'leftankle')\n",
    "test.location = test.location.str.replace('distal_lateral_shank_right', 'rightankle')"
   ]
  },
  {
   "cell_type": "code",
   "execution_count": 244,
   "metadata": {
    "ExecuteTime": {
     "end_time": "2018-11-21T16:50:02.639618Z",
     "start_time": "2018-11-21T16:50:02.617677Z"
    }
   },
   "outputs": [
    {
     "data": {
      "text/html": [
       "<div>\n",
       "<style scoped>\n",
       "    .dataframe tbody tr th:only-of-type {\n",
       "        vertical-align: middle;\n",
       "    }\n",
       "\n",
       "    .dataframe tbody tr th {\n",
       "        vertical-align: top;\n",
       "    }\n",
       "\n",
       "    .dataframe thead th {\n",
       "        text-align: right;\n",
       "    }\n",
       "</style>\n",
       "<table border=\"1\" class=\"dataframe\">\n",
       "  <thead>\n",
       "    <tr style=\"text-align: right;\">\n",
       "      <th></th>\n",
       "      <th>task</th>\n",
       "      <th>trial</th>\n",
       "      <th>location</th>\n",
       "      <th>sensor</th>\n",
       "      <th>rawdata</th>\n",
       "    </tr>\n",
       "  </thead>\n",
       "  <tbody>\n",
       "    <tr>\n",
       "      <th>684</th>\n",
       "      <td>WALKING</td>\n",
       "      <td>0</td>\n",
       "      <td>leftankle</td>\n",
       "      <td>accel</td>\n",
       "      <td>Accel X (g)  Accel Y (g)  Acce...</td>\n",
       "    </tr>\n",
       "    <tr>\n",
       "      <th>687</th>\n",
       "      <td>WALKING</td>\n",
       "      <td>0</td>\n",
       "      <td>rightankle</td>\n",
       "      <td>accel</td>\n",
       "      <td>Accel X (g)  Accel Y (g)  Acce...</td>\n",
       "    </tr>\n",
       "    <tr>\n",
       "      <th>711</th>\n",
       "      <td>WALKING</td>\n",
       "      <td>0</td>\n",
       "      <td>sacrum</td>\n",
       "      <td>accel</td>\n",
       "      <td>Accel X (g)  Accel Y (g)  Acce...</td>\n",
       "    </tr>\n",
       "  </tbody>\n",
       "</table>\n",
       "</div>"
      ],
      "text/plain": [
       "        task  trial    location sensor  \\\n",
       "684  WALKING      0   leftankle  accel   \n",
       "687  WALKING      0  rightankle  accel   \n",
       "711  WALKING      0      sacrum  accel   \n",
       "\n",
       "                                               rawdata  \n",
       "684                  Accel X (g)  Accel Y (g)  Acce...  \n",
       "687                  Accel X (g)  Accel Y (g)  Acce...  \n",
       "711                  Accel X (g)  Accel Y (g)  Acce...  "
      ]
     },
     "execution_count": 244,
     "metadata": {},
     "output_type": "execute_result"
    }
   ],
   "source": [
    "test.head(3)"
   ]
  },
  {
   "cell_type": "code",
   "execution_count": 127,
   "metadata": {
    "ExecuteTime": {
     "end_time": "2018-11-21T16:00:59.205449Z",
     "start_time": "2018-11-21T16:00:57.630077Z"
    }
   },
   "outputs": [
    {
     "name": "stderr",
     "output_type": "stream",
     "text": [
      "C:\\ProgramData\\Anaconda3\\lib\\site-packages\\pandas\\core\\generic.py:1996: PerformanceWarning: \n",
      "your performance may suffer as PyTables will pickle object types that it cannot\n",
      "map directly to c-types [inferred_type->mixed,key->block1_values] [items->['task', 'location', 'sensor', 'rawdata']]\n",
      "\n",
      "  return pytables.to_hdf(path_or_buf, key, self, **kwargs)\n"
     ]
    }
   ],
   "source": [
    "amipath = r'//FS2.smpp.local\\RTO\\Inpatient Sensors -Stroke\\Data analysis\\Analysis_ActivityRecognition'\n",
    "test.to_hdf(os.path.join(amipath, 'testdata.h5'),key='df',mode='w')"
   ]
  },
  {
   "cell_type": "code",
   "execution_count": 245,
   "metadata": {
    "ExecuteTime": {
     "end_time": "2018-11-21T16:50:23.157854Z",
     "start_time": "2018-11-21T16:50:23.143892Z"
    }
   },
   "outputs": [],
   "source": [
    "walk3sensor = test.query('((location==\"sacrum\")or(location==\"leftankle\")or \\\n",
    "                         (location==\"rightankle\")) & \\\n",
    "                     sensor==\"accel\" & \\\n",
    "                    (task==\"WALKING\") &\\\n",
    "                     ((trial==0) or (trial==1)) ')\n",
    "stairdown3sensor = test.query('((location==\"sacrum\")or(location==\"leftankle\")or \\\n",
    "                         (location==\"rightankle\")) & \\\n",
    "                     sensor==\"accel\" & \\\n",
    "                    (task==\"STAIRS DOWN\") &\\\n",
    "                     ((trial==0) or (trial==1)) ')\n",
    "stairup3sensor = test.query('((location==\"sacrum\")or(location==\"leftankle\")or \\\n",
    "                         (location==\"rightankle\")) & \\\n",
    "                     sensor==\"accel\" & \\\n",
    "                    (task==\"STAIRS UP\") &\\\n",
    "                     ((trial==0) or (trial==1)) ')\n"
   ]
  },
  {
   "cell_type": "code",
   "execution_count": 246,
   "metadata": {
    "ExecuteTime": {
     "end_time": "2018-11-21T16:50:26.381656Z",
     "start_time": "2018-11-21T16:50:26.376668Z"
    }
   },
   "outputs": [],
   "source": [
    "test1 = walk3sensor[walk3sensor.trial==0][['location','rawdata']]\n",
    "test1.index = [0,0,0]\n"
   ]
  },
  {
   "cell_type": "code",
   "execution_count": 247,
   "metadata": {
    "ExecuteTime": {
     "end_time": "2018-11-21T16:50:27.373635Z",
     "start_time": "2018-11-21T16:50:27.368649Z"
    }
   },
   "outputs": [],
   "source": [
    "test1 = test1.pivot(columns='location',values='rawdata')"
   ]
  },
  {
   "cell_type": "code",
   "execution_count": 248,
   "metadata": {
    "ExecuteTime": {
     "end_time": "2018-11-21T16:50:28.107627Z",
     "start_time": "2018-11-21T16:50:28.104635Z"
    }
   },
   "outputs": [],
   "source": [
    "test1.columns.name = None"
   ]
  },
  {
   "cell_type": "code",
   "execution_count": 249,
   "metadata": {
    "ExecuteTime": {
     "end_time": "2018-11-21T16:50:29.038229Z",
     "start_time": "2018-11-21T16:50:29.016287Z"
    }
   },
   "outputs": [
    {
     "data": {
      "text/html": [
       "<div>\n",
       "<style scoped>\n",
       "    .dataframe tbody tr th:only-of-type {\n",
       "        vertical-align: middle;\n",
       "    }\n",
       "\n",
       "    .dataframe tbody tr th {\n",
       "        vertical-align: top;\n",
       "    }\n",
       "\n",
       "    .dataframe thead th {\n",
       "        text-align: right;\n",
       "    }\n",
       "</style>\n",
       "<table border=\"1\" class=\"dataframe\">\n",
       "  <thead>\n",
       "    <tr style=\"text-align: right;\">\n",
       "      <th></th>\n",
       "      <th>leftankle</th>\n",
       "      <th>rightankle</th>\n",
       "      <th>sacrum</th>\n",
       "    </tr>\n",
       "  </thead>\n",
       "  <tbody>\n",
       "    <tr>\n",
       "      <th>0</th>\n",
       "      <td>Accel X (g)  Accel Y (g)  Acce...</td>\n",
       "      <td>Accel X (g)  Accel Y (g)  Acce...</td>\n",
       "      <td>Accel X (g)  Accel Y (g)  Acce...</td>\n",
       "    </tr>\n",
       "  </tbody>\n",
       "</table>\n",
       "</div>"
      ],
      "text/plain": [
       "                                           leftankle  \\\n",
       "0                  Accel X (g)  Accel Y (g)  Acce...   \n",
       "\n",
       "                                          rightankle  \\\n",
       "0                  Accel X (g)  Accel Y (g)  Acce...   \n",
       "\n",
       "                                              sacrum  \n",
       "0                  Accel X (g)  Accel Y (g)  Acce...  "
      ]
     },
     "execution_count": 249,
     "metadata": {},
     "output_type": "execute_result"
    }
   ],
   "source": [
    "test1"
   ]
  },
  {
   "cell_type": "code",
   "execution_count": 252,
   "metadata": {
    "ExecuteTime": {
     "end_time": "2018-11-21T16:51:14.624459Z",
     "start_time": "2018-11-21T16:51:14.472862Z"
    }
   },
   "outputs": [
    {
     "name": "stderr",
     "output_type": "stream",
     "text": [
      "C:\\ProgramData\\Anaconda3\\lib\\site-packages\\pandas\\core\\generic.py:1996: PerformanceWarning: \n",
      "your performance may suffer as PyTables will pickle object types that it cannot\n",
      "map directly to c-types [inferred_type->mixed,key->block0_values] [items->['leftankle', 'rightankle', 'sacrum']]\n",
      "\n",
      "  return pytables.to_hdf(path_or_buf, key, self, **kwargs)\n"
     ]
    }
   ],
   "source": [
    "amipath = r'//FS2.smpp.local\\RTO\\Inpatient Sensors -Stroke\\Data analysis\\Analysis_ActivityRecognition'\n",
    "# test1.to_hdf(os.path.join(amipath, 'test1.h5'),key='df',mode='w')\n",
    "# test1.to_csv(os.path.join(amipath, 'test1.csv'), index=False)"
   ]
  },
  {
   "cell_type": "code",
   "execution_count": 235,
   "metadata": {
    "ExecuteTime": {
     "end_time": "2018-11-21T16:47:36.254041Z",
     "start_time": "2018-11-21T16:47:36.233098Z"
    }
   },
   "outputs": [
    {
     "data": {
      "text/html": [
       "<div>\n",
       "<style scoped>\n",
       "    .dataframe tbody tr th:only-of-type {\n",
       "        vertical-align: middle;\n",
       "    }\n",
       "\n",
       "    .dataframe tbody tr th {\n",
       "        vertical-align: top;\n",
       "    }\n",
       "\n",
       "    .dataframe thead th {\n",
       "        text-align: right;\n",
       "    }\n",
       "</style>\n",
       "<table border=\"1\" class=\"dataframe\">\n",
       "  <thead>\n",
       "    <tr style=\"text-align: right;\">\n",
       "      <th></th>\n",
       "      <th>distal_lateral_shank_left</th>\n",
       "      <th>distal_lateral_shank_right</th>\n",
       "      <th>sacrum</th>\n",
       "    </tr>\n",
       "  </thead>\n",
       "  <tbody>\n",
       "    <tr>\n",
       "      <th>0</th>\n",
       "      <td>Accel X (g)  Accel Y (g)  Acce...</td>\n",
       "      <td>Accel X (g)  Accel Y (g)  Acce...</td>\n",
       "      <td>Accel X (g)  Accel Y (g)  Acce...</td>\n",
       "    </tr>\n",
       "  </tbody>\n",
       "</table>\n",
       "</div>"
      ],
      "text/plain": [
       "                           distal_lateral_shank_left  \\\n",
       "0                  Accel X (g)  Accel Y (g)  Acce...   \n",
       "\n",
       "                          distal_lateral_shank_right  \\\n",
       "0                  Accel X (g)  Accel Y (g)  Acce...   \n",
       "\n",
       "                                              sacrum  \n",
       "0                  Accel X (g)  Accel Y (g)  Acce...  "
      ]
     },
     "execution_count": 235,
     "metadata": {},
     "output_type": "execute_result"
    }
   ],
   "source": [
    "test1"
   ]
  },
  {
   "cell_type": "code",
   "execution_count": 192,
   "metadata": {
    "ExecuteTime": {
     "end_time": "2018-11-21T16:29:30.048754Z",
     "start_time": "2018-11-21T16:29:30.012852Z"
    }
   },
   "outputs": [
    {
     "data": {
      "text/html": [
       "<div>\n",
       "<style scoped>\n",
       "    .dataframe tbody tr th:only-of-type {\n",
       "        vertical-align: middle;\n",
       "    }\n",
       "\n",
       "    .dataframe tbody tr th {\n",
       "        vertical-align: top;\n",
       "    }\n",
       "\n",
       "    .dataframe thead th {\n",
       "        text-align: right;\n",
       "    }\n",
       "</style>\n",
       "<table border=\"1\" class=\"dataframe\">\n",
       "  <thead>\n",
       "    <tr style=\"text-align: right;\">\n",
       "      <th>location</th>\n",
       "      <th>distal_lateral_shank_left</th>\n",
       "      <th>distal_lateral_shank_right</th>\n",
       "      <th>sacrum</th>\n",
       "    </tr>\n",
       "  </thead>\n",
       "  <tbody>\n",
       "    <tr>\n",
       "      <th>684</th>\n",
       "      <td>Accel X (g)  Accel Y (g)  Acce...</td>\n",
       "      <td>NaN</td>\n",
       "      <td>NaN</td>\n",
       "    </tr>\n",
       "    <tr>\n",
       "      <th>687</th>\n",
       "      <td>NaN</td>\n",
       "      <td>Accel X (g)  Accel Y (g)  Acce...</td>\n",
       "      <td>NaN</td>\n",
       "    </tr>\n",
       "    <tr>\n",
       "      <th>711</th>\n",
       "      <td>NaN</td>\n",
       "      <td>NaN</td>\n",
       "      <td>Accel X (g)  Accel Y (g)  Acce...</td>\n",
       "    </tr>\n",
       "  </tbody>\n",
       "</table>\n",
       "</div>"
      ],
      "text/plain": [
       "location                          distal_lateral_shank_left  \\\n",
       "684                       Accel X (g)  Accel Y (g)  Acce...   \n",
       "687                                                     NaN   \n",
       "711                                                     NaN   \n",
       "\n",
       "location                         distal_lateral_shank_right  \\\n",
       "684                                                     NaN   \n",
       "687                       Accel X (g)  Accel Y (g)  Acce...   \n",
       "711                                                     NaN   \n",
       "\n",
       "location                                             sacrum  \n",
       "684                                                     NaN  \n",
       "687                                                     NaN  \n",
       "711                       Accel X (g)  Accel Y (g)  Acce...  "
      ]
     },
     "execution_count": 192,
     "metadata": {},
     "output_type": "execute_result"
    }
   ],
   "source": [
    "walk3sensor[walk3sensor.trial==0][['location','rawdata']].\\\n",
    "pivot(columns='location',values='rawdata')"
   ]
  },
  {
   "cell_type": "code",
   "execution_count": 193,
   "metadata": {
    "ExecuteTime": {
     "end_time": "2018-11-21T16:29:59.238113Z",
     "start_time": "2018-11-21T16:29:59.233126Z"
    }
   },
   "outputs": [
    {
     "data": {
      "text/plain": [
       "Int64Index([684, 687, 711], dtype='int64')"
      ]
     },
     "execution_count": 193,
     "metadata": {},
     "output_type": "execute_result"
    }
   ],
   "source": [
    "walk3sensor[walk3sensor.trial==0][['location','rawdata']].index"
   ]
  },
  {
   "cell_type": "code",
   "execution_count": 130,
   "metadata": {
    "ExecuteTime": {
     "end_time": "2018-11-21T16:06:56.716328Z",
     "start_time": "2018-11-21T16:06:56.699374Z"
    }
   },
   "outputs": [],
   "source": [
    "walk_trial0 = walk3sensor[walk3sensor.trial==0][['location','rawdata','trial']]. \\\n",
    "    pivot(index='trial',columns='location',values='rawdata')\n",
    "walk_trial1 = walk3sensor[walk3sensor.trial==1][['location','rawdata','trial']]. \\\n",
    "    pivot(index='trial',columns='location',values='rawdata')\n",
    "stairdown_trial0 = stairdown3sensor[stairdown3sensor.trial==0][['location','rawdata','trial']]. \\\n",
    "    pivot(index='trial',columns='location',values='rawdata')\n",
    "stairdown_trial1 = stairdown3sensor[stairdown3sensor.trial==1][['location','rawdata','trial']]. \\\n",
    "    pivot(index='trial',columns='location',values='rawdata')\n",
    "stairup_trial0 = stairup3sensor[stairup3sensor.trial==0][['location','rawdata','trial']]. \\\n",
    "    pivot(index='trial',columns='location',values='rawdata')\n",
    "stairup_trial1 = stairup3sensor[stairup3sensor.trial==1][['location','rawdata','trial']]. \\\n",
    "    pivot(index='trial',columns='location',values='rawdata')"
   ]
  },
  {
   "cell_type": "code",
   "execution_count": 131,
   "metadata": {
    "ExecuteTime": {
     "end_time": "2018-11-21T16:06:58.069828Z",
     "start_time": "2018-11-21T16:06:58.042865Z"
    },
    "scrolled": true
   },
   "outputs": [
    {
     "data": {
      "text/html": [
       "<div>\n",
       "<style scoped>\n",
       "    .dataframe tbody tr th:only-of-type {\n",
       "        vertical-align: middle;\n",
       "    }\n",
       "\n",
       "    .dataframe tbody tr th {\n",
       "        vertical-align: top;\n",
       "    }\n",
       "\n",
       "    .dataframe thead th {\n",
       "        text-align: right;\n",
       "    }\n",
       "</style>\n",
       "<table border=\"1\" class=\"dataframe\">\n",
       "  <thead>\n",
       "    <tr style=\"text-align: right;\">\n",
       "      <th>location</th>\n",
       "      <th>distal_lateral_shank_left</th>\n",
       "      <th>distal_lateral_shank_right</th>\n",
       "      <th>sacrum</th>\n",
       "    </tr>\n",
       "    <tr>\n",
       "      <th>trial</th>\n",
       "      <th></th>\n",
       "      <th></th>\n",
       "      <th></th>\n",
       "    </tr>\n",
       "  </thead>\n",
       "  <tbody>\n",
       "    <tr>\n",
       "      <th>0</th>\n",
       "      <td>Accel X (g)  Accel Y (g)  Acce...</td>\n",
       "      <td>Accel X (g)  Accel Y (g)  Acce...</td>\n",
       "      <td>Accel X (g)  Accel Y (g)  Acce...</td>\n",
       "    </tr>\n",
       "  </tbody>\n",
       "</table>\n",
       "</div>"
      ],
      "text/plain": [
       "location                          distal_lateral_shank_left  \\\n",
       "trial                                                         \n",
       "0                         Accel X (g)  Accel Y (g)  Acce...   \n",
       "\n",
       "location                         distal_lateral_shank_right  \\\n",
       "trial                                                         \n",
       "0                         Accel X (g)  Accel Y (g)  Acce...   \n",
       "\n",
       "location                                             sacrum  \n",
       "trial                                                        \n",
       "0                         Accel X (g)  Accel Y (g)  Acce...  "
      ]
     },
     "execution_count": 131,
     "metadata": {},
     "output_type": "execute_result"
    }
   ],
   "source": [
    "walk_trial0"
   ]
  },
  {
   "cell_type": "code",
   "execution_count": null,
   "metadata": {},
   "outputs": [],
   "source": [
    "test = testunstacked3.query('((location==\"sacrum\")or(location==\"distal_lateral_shank_left\")or \\\n",
    "                         (location==\"distal_lateral_shank_right\")) & \\\n",
    "                     sensor==\"accel\" & \\\n",
    "                    ( (task==\"WALKING\") or (task==\"STAIRS DOWN\") or (task==\"STAIRS UP\") )&\\\n",
    "                     ((trial==0) or (trial==1)) ')\n",
    "test\n",
    "\n",
    "# save rawdata as separate files\n",
    "amipath = r'//FS2.smpp.local\\RTO\\Inpatient Sensors -Stroke\\Data analysis\\Analysis_ActivityRecognition'\n",
    "test.rawdata[684].to_csv(os.path.join(amipath, 'walking_leftankle.csv'), index=False)\n",
    "test.rawdata[687].to_csv(os.path.join(amipath, 'walking_rightankle.csv'), index=False)\n",
    "test.rawdata[711].to_csv(os.path.join(amipath, 'walking_sacrum.csv'), index=False)\n",
    "test.rawdata[876].to_csv(os.path.join(amipath, 'stairdn_leftankle.csv'), index=False)\n",
    "test.rawdata[879].to_csv(os.path.join(amipath, 'stairdn_rightankle.csv'), index=False)\n",
    "test.rawdata[903].to_csv(os.path.join(amipath, 'stairdn_sacrum.csv'), index=False)\n",
    "test.rawdata[972].to_csv(os.path.join(amipath, 'stairup_leftankle.csv'), index=False)\n",
    "test.rawdata[975].to_csv(os.path.join(amipath, 'stairup_rightankle.csv'), index=False)\n",
    "test.rawdata[999].to_csv(os.path.join(amipath, 'stairup_sacrum.csv'), index=False)\n",
    "\n",
    "# matlab doesn't like '_' characters\n",
    "# test.location = test.location.str.replace('_', '')\n",
    "test.location = test.location.str.replace('distal_lateral_shank_left', 'leftankle')\n",
    "test.location = test.location.str.replace('distal_lateral_shank_right', 'rightankle')\n",
    "\n",
    "test.head(3)\n",
    "\n",
    "amipath = r'//FS2.smpp.local\\RTO\\Inpatient Sensors -Stroke\\Data analysis\\Analysis_ActivityRecognition'\n",
    "test.to_hdf(os.path.join(amipath, 'testdata.h5'),key='df',mode='w')\n",
    "\n",
    "walk3sensor = test.query('((location==\"sacrum\")or(location==\"leftankle\")or \\\n",
    "                         (location==\"rightankle\")) & \\\n",
    "                     sensor==\"accel\" & \\\n",
    "                    (task==\"WALKING\") &\\\n",
    "                     ((trial==0) or (trial==1)) ')\n",
    "stairdown3sensor = test.query('((location==\"sacrum\")or(location==\"leftankle\")or \\\n",
    "                         (location==\"rightankle\")) & \\\n",
    "                     sensor==\"accel\" & \\\n",
    "                    (task==\"STAIRS DOWN\") &\\\n",
    "                     ((trial==0) or (trial==1)) ')\n",
    "stairup3sensor = test.query('((location==\"sacrum\")or(location==\"leftankle\")or \\\n",
    "                         (location==\"rightankle\")) & \\\n",
    "                     sensor==\"accel\" & \\\n",
    "                    (task==\"STAIRS UP\") &\\\n",
    "                     ((trial==0) or (trial==1)) ')\n",
    "\n",
    "\n",
    "test1 = walk3sensor[walk3sensor.trial==0][['location','rawdata']]\n",
    "test1.index = [0,0,0]\n",
    "\n",
    "\n",
    "test1 = test1.pivot(columns='location',values='rawdata')\n",
    "\n",
    "test1.columns.name = None\n",
    "\n",
    "test1\n",
    "\n",
    "amipath = r'//FS2.smpp.local\\RTO\\Inpatient Sensors -Stroke\\Data analysis\\Analysis_ActivityRecognition'\n",
    "# test1.to_hdf(os.path.join(amipath, 'test1.h5'),key='df',mode='w')\n",
    "# test1.to_csv(os.path.join(amipath, 'test1.csv'), index=False)\n",
    "\n",
    "test1\n",
    "\n",
    "walk3sensor[walk3sensor.trial==0][['location','rawdata']].\\\n",
    "pivot(columns='location',values='rawdata')\n",
    "\n",
    "walk3sensor[walk3sensor.trial==0][['location','rawdata']].index\n",
    "\n",
    "walk_trial0 = walk3sensor[walk3sensor.trial==0][['location','rawdata','trial']]. \\\n",
    "    pivot(index='trial',columns='location',values='rawdata')\n",
    "walk_trial1 = walk3sensor[walk3sensor.trial==1][['location','rawdata','trial']]. \\\n",
    "    pivot(index='trial',columns='location',values='rawdata')\n",
    "stairdown_trial0 = stairdown3sensor[stairdown3sensor.trial==0][['location','rawdata','trial']]. \\\n",
    "    pivot(index='trial',columns='location',values='rawdata')\n",
    "stairdown_trial1 = stairdown3sensor[stairdown3sensor.trial==1][['location','rawdata','trial']]. \\\n",
    "    pivot(index='trial',columns='location',values='rawdata')\n",
    "stairup_trial0 = stairup3sensor[stairup3sensor.trial==0][['location','rawdata','trial']]. \\\n",
    "    pivot(index='trial',columns='location',values='rawdata')\n",
    "stairup_trial1 = stairup3sensor[stairup3sensor.trial==1][['location','rawdata','trial']]. \\\n",
    "    pivot(index='trial',columns='location',values='rawdata')\n",
    "\n",
    "walk_trial0"
   ]
  }
 ],
 "metadata": {
  "kernelspec": {
   "display_name": "Python 3",
   "language": "python",
   "name": "python3"
  },
  "language_info": {
   "codemirror_mode": {
    "name": "ipython",
    "version": 3
   },
   "file_extension": ".py",
   "mimetype": "text/x-python",
   "name": "python",
   "nbconvert_exporter": "python",
   "pygments_lexer": "ipython3",
   "version": "3.7.1"
  }
 },
 "nbformat": 4,
 "nbformat_minor": 2
}
