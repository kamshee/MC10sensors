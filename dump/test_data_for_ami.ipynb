{
 "cells": [
  {
   "cell_type": "markdown",
   "metadata": {},
   "source": [
    "from TestFeatures"
   ]
  },
  {
   "cell_type": "markdown",
   "metadata": {},
   "source": [
    "# Create dataset for feature development\n",
    "- Used HC03\n",
    "- Ami used Matlab scripts for feature development"
   ]
  },
  {
   "cell_type": "code",
   "execution_count": null,
   "metadata": {},
   "outputs": [],
   "source": [
    "# import packages\n",
    "\n",
    "\n",
    "\n"
   ]
  },
  {
   "cell_type": "code",
   "execution_count": null,
   "metadata": {},
   "outputs": [],
   "source": [
    "SubID = 'HC03'\n",
    "testpath31 = r'//FS2.smpp.local\\RTO\\Inpatient Sensors -Stroke\\Data\\biostamp_data\\controls'\n",
    "testpath32 = os.path.join(testpath31, SubID)\n",
    "testactdict, testtimestamp = extract_data(SubID, testpath32)\n",
    "testunstacked3 = unstack_ar_dictionary(testactdict)"
   ]
  },
  {
   "cell_type": "code",
   "execution_count": null,
   "metadata": {},
   "outputs": [],
   "source": [
    "testunstacked3[(testunstacked3.location=='sacrum') & (testunstacked3.sensor=='accel') & \n",
    "              ((testunstacked3.task==('WALKING'))|(testunstacked3.task==('STAIRS DOWN'))|(testunstacked3.task==('STAIRS UP')) &\n",
    "              ((testunstacked3.trial==0)|(testunstacked3.trial==1)))]\n",
    "# why does it have trial 2 and 3?"
   ]
  },
  {
   "cell_type": "code",
   "execution_count": null,
   "metadata": {},
   "outputs": [],
   "source": [
    "amitest = testunstacked3.query('location==\"sacrum\" & sensor==\"accel\" & \\\n",
    "                    ( (task==\"WALKING\") or (task==\"STAIRS DOWN\") or (task==\"STAIRS UP\") )&\\\n",
    "                     ((trial==0) or (trial==1)) ')"
   ]
  },
  {
   "cell_type": "code",
   "execution_count": null,
   "metadata": {},
   "outputs": [],
   "source": [
    "amitest.reset_index(drop=True, inplace=True)"
   ]
  },
  {
   "cell_type": "code",
   "execution_count": null,
   "metadata": {},
   "outputs": [],
   "source": [
    "amitest.insert(loc=0, column='subject', value='HC03')"
   ]
  },
  {
   "cell_type": "code",
   "execution_count": null,
   "metadata": {},
   "outputs": [],
   "source": [
    "amitest"
   ]
  },
  {
   "cell_type": "code",
   "execution_count": null,
   "metadata": {},
   "outputs": [],
   "source": [
    "# save and email\n",
    "testfile = r'//FS2.smpp.local\\RTO\\Inpatient Sensors -Stroke\\Data analysis\\Analysis_ActivityRecognition\\amitestHC03.csv'\n",
    "amitest.to_csv(testfile, index=False)"
   ]
  },
  {
   "cell_type": "code",
   "execution_count": null,
   "metadata": {},
   "outputs": [],
   "source": [
    "amitest.rawdata[0].plot(figsize=(8,4))"
   ]
  },
  {
   "cell_type": "markdown",
   "metadata": {},
   "source": [
    "# Create 3 sensor dataset in Matlab"
   ]
  },
  {
   "cell_type": "code",
   "execution_count": null,
   "metadata": {},
   "outputs": [],
   "source": [
    "SubID = 'HC03'\n",
    "testpath31 = r'//FS2.smpp.local\\RTO\\Inpatient Sensors -Stroke\\Data\\biostamp_data\\controls'\n",
    "testpath32 = os.path.join(testpath31, SubID)\n",
    "testactdict, testtimestamp = extract_data(SubID, testpath32)\n",
    "testunstacked3 = unstack_ar_dictionary(testactdict)"
   ]
  },
  {
   "cell_type": "code",
   "execution_count": null,
   "metadata": {},
   "outputs": [],
   "source": [
    "test = testunstacked3.query('((location==\"sacrum\")or(location==\"distal_lateral_shank_left\")or \\\n",
    "                         (location==\"distal_lateral_shank_right\")) & \\\n",
    "                     sensor==\"accel\" & \\\n",
    "                    ( (task==\"WALKING\") or (task==\"STAIRS DOWN\") or (task==\"STAIRS UP\") )&\\\n",
    "                     ((trial==0) or (trial==1)) ')\n",
    "test"
   ]
  },
  {
   "cell_type": "code",
   "execution_count": null,
   "metadata": {},
   "outputs": [],
   "source": [
    "# save rawdata as separate files\n",
    "amipath = r'//FS2.smpp.local\\RTO\\Inpatient Sensors -Stroke\\Data analysis\\Analysis_ActivityRecognition'\n",
    "test.rawdata[684].to_csv(os.path.join(amipath, 'walking_leftankle.csv'), index=False)\n",
    "test.rawdata[687].to_csv(os.path.join(amipath, 'walking_rightankle.csv'), index=False)\n",
    "test.rawdata[711].to_csv(os.path.join(amipath, 'walking_sacrum.csv'), index=False)\n",
    "test.rawdata[876].to_csv(os.path.join(amipath, 'stairdn_leftankle.csv'), index=False)\n",
    "test.rawdata[879].to_csv(os.path.join(amipath, 'stairdn_rightankle.csv'), index=False)\n",
    "test.rawdata[903].to_csv(os.path.join(amipath, 'stairdn_sacrum.csv'), index=False)\n",
    "test.rawdata[972].to_csv(os.path.join(amipath, 'stairup_leftankle.csv'), index=False)\n",
    "test.rawdata[975].to_csv(os.path.join(amipath, 'stairup_rightankle.csv'), index=False)\n",
    "test.rawdata[999].to_csv(os.path.join(amipath, 'stairup_sacrum.csv'), index=False)"
   ]
  },
  {
   "cell_type": "code",
   "execution_count": null,
   "metadata": {},
   "outputs": [],
   "source": [
    "# matlab doesn't like '_' characters\n",
    "# test.location = test.location.str.replace('_', '')\n",
    "test.location = test.location.str.replace('distal_lateral_shank_left', 'leftankle')\n",
    "test.location = test.location.str.replace('distal_lateral_shank_right', 'rightankle')"
   ]
  },
  {
   "cell_type": "code",
   "execution_count": null,
   "metadata": {},
   "outputs": [],
   "source": [
    "test.head(3)"
   ]
  },
  {
   "cell_type": "code",
   "execution_count": null,
   "metadata": {},
   "outputs": [],
   "source": [
    "walk3sensor = test.query('((location==\"sacrum\")or(location==\"leftankle\")or \\\n",
    "                         (location==\"rightankle\")) & \\\n",
    "                     sensor==\"accel\" & \\\n",
    "                    (task==\"WALKING\") &\\\n",
    "                     ((trial==0) or (trial==1)) ')\n",
    "stairdown3sensor = test.query('((location==\"sacrum\")or(location==\"leftankle\")or \\\n",
    "                         (location==\"rightankle\")) & \\\n",
    "                     sensor==\"accel\" & \\\n",
    "                    (task==\"STAIRS DOWN\") &\\\n",
    "                     ((trial==0) or (trial==1)) ')\n",
    "stairup3sensor = test.query('((location==\"sacrum\")or(location==\"leftankle\")or \\\n",
    "                         (location==\"rightankle\")) & \\\n",
    "                     sensor==\"accel\" & \\\n",
    "                    (task==\"STAIRS UP\") &\\\n",
    "                     ((trial==0) or (trial==1)) ')\n"
   ]
  },
  {
   "cell_type": "code",
   "execution_count": null,
   "metadata": {},
   "outputs": [],
   "source": [
    "test1 = walk3sensor[walk3sensor.trial==0][['location','rawdata']]\n",
    "test1.index = [0,0,0]"
   ]
  },
  {
   "cell_type": "code",
   "execution_count": null,
   "metadata": {},
   "outputs": [],
   "source": [
    "test1 = test1.pivot(columns='location',values='rawdata')"
   ]
  },
  {
   "cell_type": "code",
   "execution_count": null,
   "metadata": {},
   "outputs": [],
   "source": [
    "test1.columns.name = None"
   ]
  },
  {
   "cell_type": "code",
   "execution_count": null,
   "metadata": {},
   "outputs": [],
   "source": [
    "test1"
   ]
  },
  {
   "cell_type": "code",
   "execution_count": null,
   "metadata": {},
   "outputs": [],
   "source": [
    "amipath = r'//FS2.smpp.local\\RTO\\Inpatient Sensors -Stroke\\Data analysis\\Analysis_ActivityRecognition'\n",
    "# test1.to_hdf(os.path.join(amipath, 'test1.h5'),key='df',mode='w')\n",
    "# test1.to_csv(os.path.join(amipath, 'test1.csv'), index=False)"
   ]
  },
  {
   "cell_type": "code",
   "execution_count": null,
   "metadata": {},
   "outputs": [],
   "source": [
    "test1"
   ]
  },
  {
   "cell_type": "code",
   "execution_count": null,
   "metadata": {},
   "outputs": [],
   "source": [
    "walk3sensor[walk3sensor.trial==0][['location','rawdata']].\\\n",
    "pivot(columns='location',values='rawdata')"
   ]
  },
  {
   "cell_type": "code",
   "execution_count": null,
   "metadata": {},
   "outputs": [],
   "source": [
    "walk3sensor[walk3sensor.trial==0][['location','rawdata']].index"
   ]
  },
  {
   "cell_type": "code",
   "execution_count": null,
   "metadata": {},
   "outputs": [],
   "source": [
    "walk_trial0 = walk3sensor[walk3sensor.trial==0][['location','rawdata','trial']]. \\\n",
    "    pivot(index='trial',columns='location',values='rawdata')\n",
    "walk_trial1 = walk3sensor[walk3sensor.trial==1][['location','rawdata','trial']]. \\\n",
    "    pivot(index='trial',columns='location',values='rawdata')\n",
    "stairdown_trial0 = stairdown3sensor[stairdown3sensor.trial==0][['location','rawdata','trial']]. \\\n",
    "    pivot(index='trial',columns='location',values='rawdata')\n",
    "stairdown_trial1 = stairdown3sensor[stairdown3sensor.trial==1][['location','rawdata','trial']]. \\\n",
    "    pivot(index='trial',columns='location',values='rawdata')\n",
    "stairup_trial0 = stairup3sensor[stairup3sensor.trial==0][['location','rawdata','trial']]. \\\n",
    "    pivot(index='trial',columns='location',values='rawdata')\n",
    "stairup_trial1 = stairup3sensor[stairup3sensor.trial==1][['location','rawdata','trial']]. \\\n",
    "    pivot(index='trial',columns='location',values='rawdata')"
   ]
  },
  {
   "cell_type": "code",
   "execution_count": null,
   "metadata": {},
   "outputs": [],
   "source": [
    "walk_trial0"
   ]
  },
  {
   "cell_type": "code",
   "execution_count": null,
   "metadata": {},
   "outputs": [],
   "source": []
  },
  {
   "cell_type": "code",
   "execution_count": null,
   "metadata": {},
   "outputs": [],
   "source": []
  }
 ],
 "metadata": {
  "kernelspec": {
   "display_name": "Python 3",
   "language": "python",
   "name": "python3"
  },
  "language_info": {
   "codemirror_mode": {
    "name": "ipython",
    "version": 3
   },
   "file_extension": ".py",
   "mimetype": "text/x-python",
   "name": "python",
   "nbconvert_exporter": "python",
   "pygments_lexer": "ipython3",
   "version": "3.7.1"
  }
 },
 "nbformat": 4,
 "nbformat_minor": 2
}
